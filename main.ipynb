{
 "cells": [
  {
   "cell_type": "code",
   "outputs": [
    {
     "name": "stderr",
     "output_type": "stream",
     "text": [
      "[nltk_data] Downloading package punkt to /Users/lucas/nltk_data...\n",
      "[nltk_data]   Package punkt is already up-to-date!\n",
      "[nltk_data] Downloading package stopwords to /Users/lucas/nltk_data...\n",
      "[nltk_data]   Package stopwords is already up-to-date!\n",
      "[nltk_data] Downloading package wordnet to /Users/lucas/nltk_data...\n",
      "[nltk_data]   Package wordnet is already up-to-date!\n",
      "/Users/lucas/Documents/A5/4-VM IA/cours2/venv/lib/python3.10/site-packages/sklearn/feature_extraction/text.py:525: UserWarning: The parameter 'token_pattern' will not be used since 'tokenizer' is not None'\n",
      "  warnings.warn(\n"
     ]
    },
    {
     "data": {
      "text/plain": "<10000x4111 sparse matrix of type '<class 'numpy.float64'>'\n\twith 264526 stored elements in Compressed Sparse Row format>"
     },
     "execution_count": 26,
     "metadata": {},
     "output_type": "execute_result"
    }
   ],
   "source": [
    "import pandas as pd\n",
    "import nltk\n",
    "from nltk.tokenize import word_tokenize\n",
    "nltk.download('punkt')\n",
    "# Télécharger les données de stopwords\n",
    "nltk.download('stopwords')\n",
    "from nltk.corpus import stopwords\n",
    "from nltk.stem import WordNetLemmatizer\n",
    "nltk.download('wordnet')\n",
    "\n",
    "from sklearn.feature_extraction.text import TfidfVectorizer\n",
    "\n",
    "\n",
    "\n",
    "# Charger les DataFrames)\n",
    "df = pd.read_csv(\"Data_Projet/Datafiniti_Hotel_Reviews.csv\", sep=',', usecols=range(20))\n",
    "\n",
    "# Remplacer les valeurs NaN dans la colonne \"reviews.title\" par une chaîne vide\n",
    "df[\"reviews.title\"] = df[\"reviews.title\"].fillna(\"\")\n",
    "\n",
    "# Sélectionner les colonnes qui nous intéressent\n",
    "df = df[[\"name\", \"reviews.rating\", \"reviews.text\", \"reviews.title\"]]\n",
    "\n",
    "# Concaténer les colonnes reviews.text et reviews.title\n",
    "df[\"reviews_combined\"] = df[\"reviews.title\"] + \" \" + df[\"reviews.text\"]\n",
    "\n",
    "# Trier le DataFrame par la colonne \"reviews.rating\"\n",
    "df = df.sort_values(by=\"reviews.rating\")\n",
    "\n",
    "# Supprimer les colonnes \"reviews.text\" et \"reviews.title\"\n",
    "df.drop(columns=[\"reviews.text\", \"reviews.title\"], inplace=True)\n",
    "\n",
    "df[\"reviews_combined\"] = df[\"reviews_combined\"].fillna(\"\")\n",
    "stop_words = set(stopwords.words(\"english\"))\n",
    "# Initialiser le lemmatiseur\n",
    "lemmatizer = WordNetLemmatizer()\n",
    "\n",
    "# Fonction pour retirer les stopwords d'une chaîne de texte\n",
    "def remove_stopwords(text):\n",
    "    # Tokeniser le texte en mots\n",
    "    tokens = word_tokenize(text)\n",
    "    # Retirer les mots qui sont des stopwords\n",
    "    filtered_tokens = [word for word in tokens if word.lower() not in stop_words]\n",
    "    # Lemmatisation des mots\n",
    "    lemmatized_tokens = [lemmatizer.lemmatize(word.lower()) for word in filtered_tokens]\n",
    "    # Rejoindre les tokens lemmatisés en une chaîne de texte\n",
    "    lemmatized_text = ' '.join(lemmatized_tokens)\n",
    "    return lemmatized_text\n",
    "\n",
    "# Appliquer la fonction remove_stopwords à la colonne \"reviews_combined\"\n",
    "df[\"reviews_combined_no_stopwords\"] = df[\"reviews_combined\"].apply(remove_stopwords)\n",
    "\n",
    "tfidf_vectorizer = TfidfVectorizer(\n",
    "    lowercase=True,  # Convertit le texte en minuscules\n",
    "    tokenizer=word_tokenize,  # Tokenise les mots\n",
    "    stop_words='english',  # Retire les mots vides en anglais\n",
    "    max_df=0.8,  # Ignore les mots qui apparaissent dans plus de 80% des documents\n",
    "    min_df=5  # Ignore les mots qui n'apparaissent pas au moins dans 5 documents\n",
    ")\n",
    "\n",
    "tfidf_matrix = tfidf_vectorizer.fit_transform(df[\"reviews_combined_no_stopwords\"])\n",
    "\n",
    "\n",
    "# Vérifier que les colonnes ont été supprimées avec succès\n",
    "df\n",
    "\n"
   ],
   "metadata": {
    "collapsed": false,
    "ExecuteTime": {
     "end_time": "2024-03-03T17:28:56.008060Z",
     "start_time": "2024-03-03T17:28:49.937925Z"
    }
   },
   "id": "49d776477e79ee0e",
   "execution_count": 26
  },
  {
   "cell_type": "code",
   "outputs": [],
   "source": [],
   "metadata": {
    "collapsed": false,
    "ExecuteTime": {
     "end_time": "2024-03-03T16:41:46.398792Z",
     "start_time": "2024-03-03T16:41:46.393738Z"
    }
   },
   "id": "1a4f9845fb5b5e0",
   "execution_count": null
  },
  {
   "cell_type": "code",
   "execution_count": null,
   "outputs": [],
   "source": [],
   "metadata": {
    "collapsed": false,
    "ExecuteTime": {
     "end_time": "2024-03-03T16:41:57.142744Z",
     "start_time": "2024-03-03T16:41:57.115997Z"
    }
   },
   "id": "fb64632973524f8e"
  },
  {
   "cell_type": "code",
   "execution_count": null,
   "outputs": [],
   "source": [],
   "metadata": {
    "collapsed": false
   },
   "id": "c0a1e1f2f84c789b"
  }
 ],
 "metadata": {
  "kernelspec": {
   "display_name": "Python 3",
   "language": "python",
   "name": "python3"
  },
  "language_info": {
   "codemirror_mode": {
    "name": "ipython",
    "version": 2
   },
   "file_extension": ".py",
   "mimetype": "text/x-python",
   "name": "python",
   "nbconvert_exporter": "python",
   "pygments_lexer": "ipython2",
   "version": "2.7.6"
  }
 },
 "nbformat": 4,
 "nbformat_minor": 5
}
