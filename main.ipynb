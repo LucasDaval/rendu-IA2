{
 "cells": [
  {
   "cell_type": "code",
   "outputs": [
    {
     "data": {
      "text/plain": "                    name  reviews.rating  \\\n15845    Midvalley Motel             0.0   \n16646           1785 Inn             0.0   \n16647           1785 Inn             0.0   \n16648           1785 Inn             0.0   \n8585   Hotel Millersburg             0.0   \n\n                                            reviews.text  \\\n15845  to share your opinion of this businesswith YP ...   \n16646  The table-side Caesar salad for two is a real ...   \n16647  Bartender is great. Ask about chocolate bacon ...   \n16648  (no chocolate bacon. I am dissapoint) great wa...   \n8585          xxxxxxxxxxxxxxxxxxxxxxxxxxxxxxxxxxxxxxxxxx   \n\n                         reviews.title  \\\n15845                                    \n16646                        fantastic   \n16647                        fantastic   \n16648                        fantastic   \n8585   Amazing old and well kept hotel   \n\n                                        reviews_combined  \n15845   to share your opinion of this businesswith YP...  \n16646  fantastic The table-side Caesar salad for two ...  \n16647  fantastic Bartender is great. Ask about chocol...  \n16648  fantastic (no chocolate bacon. I am dissapoint...  \n8585   Amazing old and well kept hotel xxxxxxxxxxxxxx...  ",
      "text/html": "<div>\n<style scoped>\n    .dataframe tbody tr th:only-of-type {\n        vertical-align: middle;\n    }\n\n    .dataframe tbody tr th {\n        vertical-align: top;\n    }\n\n    .dataframe thead th {\n        text-align: right;\n    }\n</style>\n<table border=\"1\" class=\"dataframe\">\n  <thead>\n    <tr style=\"text-align: right;\">\n      <th></th>\n      <th>name</th>\n      <th>reviews.rating</th>\n      <th>reviews.text</th>\n      <th>reviews.title</th>\n      <th>reviews_combined</th>\n    </tr>\n  </thead>\n  <tbody>\n    <tr>\n      <th>15845</th>\n      <td>Midvalley Motel</td>\n      <td>0.0</td>\n      <td>to share your opinion of this businesswith YP ...</td>\n      <td></td>\n      <td>to share your opinion of this businesswith YP...</td>\n    </tr>\n    <tr>\n      <th>16646</th>\n      <td>1785 Inn</td>\n      <td>0.0</td>\n      <td>The table-side Caesar salad for two is a real ...</td>\n      <td>fantastic</td>\n      <td>fantastic The table-side Caesar salad for two ...</td>\n    </tr>\n    <tr>\n      <th>16647</th>\n      <td>1785 Inn</td>\n      <td>0.0</td>\n      <td>Bartender is great. Ask about chocolate bacon ...</td>\n      <td>fantastic</td>\n      <td>fantastic Bartender is great. Ask about chocol...</td>\n    </tr>\n    <tr>\n      <th>16648</th>\n      <td>1785 Inn</td>\n      <td>0.0</td>\n      <td>(no chocolate bacon. I am dissapoint) great wa...</td>\n      <td>fantastic</td>\n      <td>fantastic (no chocolate bacon. I am dissapoint...</td>\n    </tr>\n    <tr>\n      <th>8585</th>\n      <td>Hotel Millersburg</td>\n      <td>0.0</td>\n      <td>xxxxxxxxxxxxxxxxxxxxxxxxxxxxxxxxxxxxxxxxxx</td>\n      <td>Amazing old and well kept hotel</td>\n      <td>Amazing old and well kept hotel xxxxxxxxxxxxxx...</td>\n    </tr>\n  </tbody>\n</table>\n</div>"
     },
     "execution_count": 5,
     "metadata": {},
     "output_type": "execute_result"
    }
   ],
   "source": [
    "import pandas as pd\n",
    "\n",
    "# Charger les DataFrames\n",
    "df1 = pd.read_csv(\"Data_Projet/7282_1.csv\", sep=',', usecols=range(19))\n",
    "df2 = pd.read_csv(\"Data_Projet/Datafiniti_Hotel_Reviews_Jun19.csv\", sep=',', usecols=range(21))\n",
    "df3 = pd.read_csv(\"Data_Projet/Datafiniti_Hotel_Reviews.csv\", sep=',', usecols=range(20))\n",
    "\n",
    "# Concaténer les DataFrames\n",
    "df = pd.concat([df1, df2, df3], ignore_index=True)\n",
    "\n",
    "# Remplacer les valeurs NaN dans la colonne \"reviews.title\" par une chaîne vide\n",
    "df[\"reviews.title\"] = df[\"reviews.title\"].fillna(\"\")\n",
    "\n",
    "# Sélectionner les colonnes qui nous intéressent\n",
    "df = df[[\"name\", \"reviews.rating\", \"reviews.text\", \"reviews.title\"]]\n",
    "\n",
    "# Concaténer les colonnes reviews.text et reviews.title\n",
    "df[\"reviews_combined\"] = df[\"reviews.title\"] + \" \" + df[\"reviews.text\"]\n",
    "\n",
    "# Trier le DataFrame par la colonne \"reviews.rating\"\n",
    "df = df.sort_values(by=\"reviews.rating\")\n",
    "\n",
    "# Delete duplicates reviews.txt\n",
    "df = df.drop_duplicates(subset=\"reviews.text\")\n",
    "\n",
    "# Afficher les premières lignes du DataFrame \n",
    "df.head()"
   ],
   "metadata": {
    "collapsed": false,
    "ExecuteTime": {
     "end_time": "2024-02-29T09:23:21.886587Z",
     "start_time": "2024-02-29T09:23:20.887511Z"
    }
   },
   "id": "49d776477e79ee0e",
   "execution_count": 5
  },
  {
   "cell_type": "code",
   "outputs": [],
   "source": [],
   "metadata": {
    "collapsed": false
   },
   "id": "1a4f9845fb5b5e0"
  }
 ],
 "metadata": {
  "kernelspec": {
   "display_name": "Python 3",
   "language": "python",
   "name": "python3"
  },
  "language_info": {
   "codemirror_mode": {
    "name": "ipython",
    "version": 2
   },
   "file_extension": ".py",
   "mimetype": "text/x-python",
   "name": "python",
   "nbconvert_exporter": "python",
   "pygments_lexer": "ipython2",
   "version": "2.7.6"
  }
 },
 "nbformat": 4,
 "nbformat_minor": 5
}
