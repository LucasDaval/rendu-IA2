{
 "cells": [
  {
   "cell_type": "code",
   "outputs": [
    {
     "name": "stderr",
     "output_type": "stream",
     "text": [
      "[nltk_data] Downloading package punkt to /Users/lucas/nltk_data...\n",
      "[nltk_data]   Package punkt is already up-to-date!\n",
      "[nltk_data] Downloading package stopwords to /Users/lucas/nltk_data...\n",
      "[nltk_data]   Package stopwords is already up-to-date!\n",
      "[nltk_data] Downloading package wordnet to /Users/lucas/nltk_data...\n"
     ]
    },
    {
     "data": {
      "text/plain": "                                                   name  reviews.rating  \\\n9999                                  Royal Suite Lodge             1.0   \n8968                                 Rodeway Inn Suites             1.0   \n8967                                 Rodeway Inn Suites             1.0   \n8966                                 Rodeway Inn Suites             1.0   \n8964                                 Days Inn Princeton             1.0   \n...                                                 ...             ...   \n4709                  Wyndham Garden Pittsburgh Airport             5.0   \n4706                    Pittsburgh Marriott City Center             5.0   \n4702                    Pittsburgh Marriott City Center             5.0   \n4730                                      Shawnee Motel             5.0   \n4999  Embassy Suites by Hilton Crystal City National...             5.0   \n\n                                       reviews_combined  \\\n9999  Polde Filthy, outdated, noisy neighbours, but ...   \n8968  Experience \"the lowest common denominator\"! Th...   \n8967  Bulldoze it Worst place I've ever stayed. Toil...   \n8966  Not good. Not pleasant at all. Loud noises and...   \n8964  Do Not Stay Here! The place is a dump. Room wa...   \n...                                                 ...   \n4709  great place Other than being told on hotels.co...   \n4706  My first choice in Pittsburgh Room is a little...   \n4702  Great location for Consol Energy Center Stayed...   \n4730  Nice time at this little motel! Had a weekend ...   \n4999  Staff went above and beyond to help us... We t...   \n\n                          reviews_combined_no_stopwords  \n9999  polde filthy , outdated , noisy neighbour , wo...  \n8968  experience `` lowest common denominator '' ! p...  \n8967  bulldoze worst place 've ever stayed . toilet ...  \n8966  good . pleasant . loud noise voice midnight . ...  \n8964  stay ! place dump . room filthy look like n't ...  \n...                                                 ...  \n4709  great place told hotels.com breakfast included...  \n4706  first choice pittsburgh room little bit spendy...  \n4702  great location consol energy center stayed att...  \n4730  nice time little motel ! weekend visit church ...  \n4999  staff went beyond help u ... took two grand ch...  \n\n[10000 rows x 4 columns]",
      "text/html": "<div>\n<style scoped>\n    .dataframe tbody tr th:only-of-type {\n        vertical-align: middle;\n    }\n\n    .dataframe tbody tr th {\n        vertical-align: top;\n    }\n\n    .dataframe thead th {\n        text-align: right;\n    }\n</style>\n<table border=\"1\" class=\"dataframe\">\n  <thead>\n    <tr style=\"text-align: right;\">\n      <th></th>\n      <th>name</th>\n      <th>reviews.rating</th>\n      <th>reviews_combined</th>\n      <th>reviews_combined_no_stopwords</th>\n    </tr>\n  </thead>\n  <tbody>\n    <tr>\n      <th>9999</th>\n      <td>Royal Suite Lodge</td>\n      <td>1.0</td>\n      <td>Polde Filthy, outdated, noisy neighbours, but ...</td>\n      <td>polde filthy , outdated , noisy neighbour , wo...</td>\n    </tr>\n    <tr>\n      <th>8968</th>\n      <td>Rodeway Inn Suites</td>\n      <td>1.0</td>\n      <td>Experience \"the lowest common denominator\"! Th...</td>\n      <td>experience `` lowest common denominator '' ! p...</td>\n    </tr>\n    <tr>\n      <th>8967</th>\n      <td>Rodeway Inn Suites</td>\n      <td>1.0</td>\n      <td>Bulldoze it Worst place I've ever stayed. Toil...</td>\n      <td>bulldoze worst place 've ever stayed . toilet ...</td>\n    </tr>\n    <tr>\n      <th>8966</th>\n      <td>Rodeway Inn Suites</td>\n      <td>1.0</td>\n      <td>Not good. Not pleasant at all. Loud noises and...</td>\n      <td>good . pleasant . loud noise voice midnight . ...</td>\n    </tr>\n    <tr>\n      <th>8964</th>\n      <td>Days Inn Princeton</td>\n      <td>1.0</td>\n      <td>Do Not Stay Here! The place is a dump. Room wa...</td>\n      <td>stay ! place dump . room filthy look like n't ...</td>\n    </tr>\n    <tr>\n      <th>...</th>\n      <td>...</td>\n      <td>...</td>\n      <td>...</td>\n      <td>...</td>\n    </tr>\n    <tr>\n      <th>4709</th>\n      <td>Wyndham Garden Pittsburgh Airport</td>\n      <td>5.0</td>\n      <td>great place Other than being told on hotels.co...</td>\n      <td>great place told hotels.com breakfast included...</td>\n    </tr>\n    <tr>\n      <th>4706</th>\n      <td>Pittsburgh Marriott City Center</td>\n      <td>5.0</td>\n      <td>My first choice in Pittsburgh Room is a little...</td>\n      <td>first choice pittsburgh room little bit spendy...</td>\n    </tr>\n    <tr>\n      <th>4702</th>\n      <td>Pittsburgh Marriott City Center</td>\n      <td>5.0</td>\n      <td>Great location for Consol Energy Center Stayed...</td>\n      <td>great location consol energy center stayed att...</td>\n    </tr>\n    <tr>\n      <th>4730</th>\n      <td>Shawnee Motel</td>\n      <td>5.0</td>\n      <td>Nice time at this little motel! Had a weekend ...</td>\n      <td>nice time little motel ! weekend visit church ...</td>\n    </tr>\n    <tr>\n      <th>4999</th>\n      <td>Embassy Suites by Hilton Crystal City National...</td>\n      <td>5.0</td>\n      <td>Staff went above and beyond to help us... We t...</td>\n      <td>staff went beyond help u ... took two grand ch...</td>\n    </tr>\n  </tbody>\n</table>\n<p>10000 rows × 4 columns</p>\n</div>"
     },
     "execution_count": 25,
     "metadata": {},
     "output_type": "execute_result"
    }
   ],
   "source": [
    "import pandas as pd\n",
    "import nltk\n",
    "from nltk.tokenize import word_tokenize\n",
    "nltk.download('punkt')\n",
    "# Télécharger les données de stopwords\n",
    "nltk.download('stopwords')\n",
    "from nltk.corpus import stopwords\n",
    "\n",
    "\n",
    "\n",
    "# Charger les DataFrames)\n",
    "df = pd.read_csv(\"Data_Projet/Datafiniti_Hotel_Reviews.csv\", sep=',', usecols=range(20))\n",
    "\n",
    "# Remplacer les valeurs NaN dans la colonne \"reviews.title\" par une chaîne vide\n",
    "df[\"reviews.title\"] = df[\"reviews.title\"].fillna(\"\")\n",
    "\n",
    "# Sélectionner les colonnes qui nous intéressent\n",
    "df = df[[\"name\", \"reviews.rating\", \"reviews.text\", \"reviews.title\"]]\n",
    "\n",
    "# Concaténer les colonnes reviews.text et reviews.title\n",
    "df[\"reviews_combined\"] = df[\"reviews.title\"] + \" \" + df[\"reviews.text\"]\n",
    "\n",
    "# Trier le DataFrame par la colonne \"reviews.rating\"\n",
    "df = df.sort_values(by=\"reviews.rating\")\n",
    "\n",
    "# Supprimer les colonnes \"reviews.text\" et \"reviews.title\"\n",
    "df.drop(columns=[\"reviews.text\", \"reviews.title\"], inplace=True)\n",
    "\n",
    "df[\"reviews_combined\"] = df[\"reviews_combined\"].fillna(\"\")\n",
    "stop_words = set(stopwords.words(\"english\"))\n",
    "\n",
    "# Fonction pour retirer les stopwords d'une chaîne de texte\n",
    "def remove_stopwords(text):\n",
    "    # Tokeniser le texte en mots\n",
    "    tokens = word_tokenize(text)\n",
    "    # Retirer les mots qui sont des stopwords\n",
    "    filtered_tokens = [word for word in tokens if word.lower() not in stop_words]\n",
    "    # Rejoindre les tokens filtrés en une chaîne de texte\n",
    "    filtered_text = ' '.join(filtered_tokens)\n",
    "    return filtered_text\n",
    "\n",
    "# Appliquer la fonction remove_stopwords à la colonne \"reviews_combined\"\n",
    "df[\"reviews_combined_no_stopwords\"] = df[\"reviews_combined\"].apply(remove_stopwords)\n",
    "\n",
    "\n",
    "# Vérifier que les colonnes ont été supprimées avec succès\n",
    "df\n"
   ],
   "metadata": {
    "collapsed": false,
    "ExecuteTime": {
     "end_time": "2024-03-03T17:12:35.048787Z",
     "start_time": "2024-03-03T17:12:30.735363Z"
    }
   },
   "id": "49d776477e79ee0e",
   "execution_count": 25
  },
  {
   "cell_type": "code",
   "outputs": [],
   "source": [],
   "metadata": {
    "collapsed": false,
    "ExecuteTime": {
     "end_time": "2024-03-03T16:41:46.398792Z",
     "start_time": "2024-03-03T16:41:46.393738Z"
    }
   },
   "id": "1a4f9845fb5b5e0",
   "execution_count": null
  },
  {
   "cell_type": "code",
   "execution_count": null,
   "outputs": [],
   "source": [],
   "metadata": {
    "collapsed": false,
    "ExecuteTime": {
     "end_time": "2024-03-03T16:41:57.142744Z",
     "start_time": "2024-03-03T16:41:57.115997Z"
    }
   },
   "id": "fb64632973524f8e"
  },
  {
   "cell_type": "code",
   "execution_count": null,
   "outputs": [],
   "source": [],
   "metadata": {
    "collapsed": false
   },
   "id": "c0a1e1f2f84c789b"
  }
 ],
 "metadata": {
  "kernelspec": {
   "display_name": "Python 3",
   "language": "python",
   "name": "python3"
  },
  "language_info": {
   "codemirror_mode": {
    "name": "ipython",
    "version": 2
   },
   "file_extension": ".py",
   "mimetype": "text/x-python",
   "name": "python",
   "nbconvert_exporter": "python",
   "pygments_lexer": "ipython2",
   "version": "2.7.6"
  }
 },
 "nbformat": 4,
 "nbformat_minor": 5
}
